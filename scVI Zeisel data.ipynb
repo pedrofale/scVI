{
 "cells": [
  {
   "cell_type": "markdown",
   "metadata": {},
   "source": [
    "# Import the scVI model"
   ]
  },
  {
   "cell_type": "code",
   "execution_count": 1,
   "metadata": {},
   "outputs": [],
   "source": [
    "%matplotlib inline\n",
    "\n",
    "from scvi import scVI\n",
    "\n",
    "import tensorflow as tf\n",
    "import numpy as np\n",
    "import time\n",
    "from tqdm import tqdm\n",
    "import pandas as pd\n",
    "from sklearn.model_selection import train_test_split\n",
    "from sklearn.manifold import TSNE\n",
    "import matplotlib.pyplot as plt\n",
    "from benchmarking import *\n",
    "\n",
    "plt.style.use('ggplot')"
   ]
  },
  {
   "cell_type": "markdown",
   "metadata": {},
   "source": [
    "# Loading and filtering data"
   ]
  },
  {
   "cell_type": "code",
   "execution_count": 2,
   "metadata": {},
   "outputs": [],
   "source": [
    "X = pd.read_csv(\"expression.bin\", sep=\"\\t\", low_memory=False).T\n",
    "clusters = np.array(X[7], dtype=str)[2:]\n",
    "_, labels = np.unique(clusters, return_inverse=True)\n",
    "gene_names = np.array(X.iloc[0], dtype=str)[10:]\n",
    "X = X.loc[:, 10:]\n",
    "X = X.drop(X.index[0])\n",
    "expression_data = np.array(X, dtype=np.int)[1:]\n",
    "\n",
    "# keep the most variable genes according to the Biscuit ICML paper\n",
    "selected = np.std(expression_data, axis=0).argsort()[-558:][::-1]\n",
    "expression_data = expression_data[:, selected]\n",
    "gene_names = gene_names[selected].astype(str)\n",
    "\n",
    "#train test split for log-likelihood scores\n",
    "expression_train, expression_test, c_train, c_test = train_test_split(expression_data, labels)"
   ]
  },
  {
   "cell_type": "code",
   "execution_count": 3,
   "metadata": {},
   "outputs": [
    {
     "data": {
      "text/plain": [
       "(2253, 558)"
      ]
     },
     "execution_count": 3,
     "metadata": {},
     "output_type": "execute_result"
    }
   ],
   "source": [
    "expression_train.shape"
   ]
  },
  {
   "cell_type": "markdown",
   "metadata": {},
   "source": [
    "# Getting prior for scaling parameters\n",
    "Get the log library size and its mean and variance"
   ]
  },
  {
   "cell_type": "code",
   "execution_count": 4,
   "metadata": {},
   "outputs": [],
   "source": [
    "log_library_size = np.log(np.sum(expression_train, axis=1))\n",
    "mean, var = np.mean(log_library_size), np.var(log_library_size)"
   ]
  },
  {
   "cell_type": "markdown",
   "metadata": {},
   "source": [
    "# Loading scVI on memory"
   ]
  },
  {
   "cell_type": "code",
   "execution_count": 5,
   "metadata": {},
   "outputs": [],
   "source": [
    "tf.reset_default_graph()\n",
    "x = tf.placeholder(tf.float32, (None, expression_train.shape[1]), name='x')\n",
    "\n",
    "model = scVI(x, n_hidden=10)"
   ]
  },
  {
   "cell_type": "markdown",
   "metadata": {},
   "source": [
    "# Tensorflow session"
   ]
  },
  {
   "cell_type": "code",
   "execution_count": 6,
   "metadata": {},
   "outputs": [],
   "source": [
    "# Session creation\n",
    "sess = tf.Session()\n",
    "sess.run(tf.global_variables_initializer())"
   ]
  },
  {
   "cell_type": "markdown",
   "metadata": {},
   "source": [
    "# Training"
   ]
  },
  {
   "cell_type": "code",
   "execution_count": 7,
   "metadata": {},
   "outputs": [],
   "source": [
    "batch_size = 100"
   ]
  },
  {
   "cell_type": "code",
   "execution_count": 8,
   "metadata": {},
   "outputs": [],
   "source": [
    "def next_batch(data, batch_size):\n",
    "    index = np.random.choice(np.arange(data.shape[0]), size=batch_size)\n",
    "    return data[index].astype(np.float32)"
   ]
  },
  {
   "cell_type": "code",
   "execution_count": 9,
   "metadata": {},
   "outputs": [],
   "source": [
    "def train_model(num_epochs, expression_train, expression_test):\n",
    "    train_loss = []\n",
    "    valid_loss = []\n",
    "    \n",
    "    iterep = int(expression_train.shape[0] / float(batch_size)) - 1  \n",
    "    \n",
    "    for t in range(iterep * num_epochs):\n",
    "        # arrange data in batches\n",
    "        x_train = next_batch(expression_train, batch_size)\n",
    "        x_test = next_batch(expression_test, batch_size)\n",
    "\n",
    "        #prepare data dictionaries\n",
    "        dic_train = {x: x_train}\n",
    "        dic_test = {x: expression_test} \n",
    "        \n",
    "        # run an optimization set\n",
    "        _, l_tr = sess.run([model.train_step, model.loss], feed_dict=dic_train)\n",
    "        end_epoch, epoch = t % iterep == 0, t / iterep\n",
    "\n",
    "        if end_epoch:          \n",
    "            print(epoch)\n",
    "            l_t = sess.run((model.loss), feed_dict=dic_test)\n",
    "            \n",
    "            print('Train / Validation performance:', l_tr, l_t)\n",
    "            \n",
    "            if np.isnan(l_tr):\n",
    "                break\n",
    "        \n",
    "            train_loss.append(l_tr)\n",
    "            valid_loss.append(l_t)\n",
    "            \n",
    "    return train_loss, valid_loss"
   ]
  },
  {
   "cell_type": "code",
   "execution_count": 10,
   "metadata": {
    "scrolled": true
   },
   "outputs": [
    {
     "name": "stdout",
     "output_type": "stream",
     "text": [
      "0.0\n",
      "Train / Validation performance: 40988.805 37729.188\n",
      "1.0\n",
      "Train / Validation performance: 39879.64 37282.117\n",
      "2.0\n",
      "Train / Validation performance: 34545.695 35706.84\n",
      "3.0\n",
      "Train / Validation performance: 35256.297 34468.945\n",
      "4.0\n",
      "Train / Validation performance: 32873.234 33970.613\n",
      "5.0\n",
      "Train / Validation performance: 35067.484 33748.945\n",
      "6.0\n",
      "Train / Validation performance: 32207.24 33698.188\n",
      "7.0\n",
      "Train / Validation performance: 33435.88 33453.562\n",
      "8.0\n",
      "Train / Validation performance: 36013.242 33310.586\n",
      "9.0\n",
      "Train / Validation performance: 29140.678 33190.086\n",
      "10.0\n",
      "Train / Validation performance: 28408.363 32972.914\n",
      "11.0\n",
      "Train / Validation performance: 34293.65 32863.37\n",
      "12.0\n",
      "Train / Validation performance: 33161.066 32622.914\n",
      "13.0\n",
      "Train / Validation performance: 31167.848 32539.955\n",
      "14.0\n",
      "Train / Validation performance: 33246.457 32336.432\n",
      "15.0\n",
      "Train / Validation performance: 31571.42 32307.756\n",
      "16.0\n",
      "Train / Validation performance: 29082.47 32251.936\n",
      "17.0\n",
      "Train / Validation performance: 27112.555 31929.99\n",
      "18.0\n",
      "Train / Validation performance: 28979.807 31519.668\n",
      "19.0\n",
      "Train / Validation performance: 29611.5 31168.537\n",
      "20.0\n",
      "Train / Validation performance: 29378.482 31025.639\n",
      "21.0\n",
      "Train / Validation performance: 33505.11 30775.367\n",
      "22.0\n",
      "Train / Validation performance: 30427.81 30631.105\n",
      "23.0\n",
      "Train / Validation performance: 29664.574 30514.648\n",
      "24.0\n",
      "Train / Validation performance: 28035.365 30341.941\n",
      "25.0\n",
      "Train / Validation performance: 28889.55 30206.809\n",
      "26.0\n",
      "Train / Validation performance: 31927.12 30156.428\n",
      "27.0\n",
      "Train / Validation performance: 26747.45 29983.156\n",
      "28.0\n",
      "Train / Validation performance: 29957.447 29850.596\n",
      "29.0\n",
      "Train / Validation performance: 29676.912 29727.021\n",
      "30.0\n",
      "Train / Validation performance: 30419.633 29633.17\n",
      "31.0\n",
      "Train / Validation performance: 28110.268 29563.596\n",
      "32.0\n",
      "Train / Validation performance: 31187.318 29387.242\n",
      "33.0\n",
      "Train / Validation performance: 27368.09 29279.426\n",
      "34.0\n",
      "Train / Validation performance: 24502.49 29177.023\n",
      "35.0\n",
      "Train / Validation performance: 28588.998 29025.719\n",
      "36.0\n",
      "Train / Validation performance: 28592.465 28904.803\n",
      "37.0\n",
      "Train / Validation performance: 30345.39 28838.568\n",
      "38.0\n",
      "Train / Validation performance: 30665.227 28673.184\n",
      "39.0\n",
      "Train / Validation performance: 26224.994 28578.605\n",
      "40.0\n",
      "Train / Validation performance: 30835.7 28412.537\n",
      "41.0\n",
      "Train / Validation performance: 25662.182 28359.139\n",
      "42.0\n",
      "Train / Validation performance: 26374.512 28225.861\n",
      "43.0\n",
      "Train / Validation performance: 26737.215 28087.45\n",
      "44.0\n",
      "Train / Validation performance: 29199.672 27954.771\n",
      "45.0\n",
      "Train / Validation performance: 26615.83 27860.307\n",
      "46.0\n",
      "Train / Validation performance: 26510.24 27738.63\n",
      "47.0\n",
      "Train / Validation performance: 25883.91 27630.424\n",
      "48.0\n",
      "Train / Validation performance: 26539.65 27495.74\n",
      "49.0\n",
      "Train / Validation performance: 24862.225 27408.766\n",
      "50.0\n",
      "Train / Validation performance: 26771.115 27302.936\n",
      "51.0\n",
      "Train / Validation performance: 29806.154 27175.219\n",
      "52.0\n",
      "Train / Validation performance: 27500.58 27063.256\n",
      "53.0\n",
      "Train / Validation performance: 26887.615 26957.33\n",
      "54.0\n",
      "Train / Validation performance: 24843.96 26859.068\n",
      "55.0\n",
      "Train / Validation performance: 26669.686 26743.361\n",
      "56.0\n",
      "Train / Validation performance: 22456.508 26630.031\n",
      "57.0\n",
      "Train / Validation performance: 26069.664 26529.744\n",
      "58.0\n",
      "Train / Validation performance: 26541.67 26416.81\n",
      "59.0\n",
      "Train / Validation performance: 27109.977 26314.71\n",
      "60.0\n",
      "Train / Validation performance: 25278.936 26197.451\n",
      "61.0\n",
      "Train / Validation performance: 23505.53 26087.545\n",
      "62.0\n",
      "Train / Validation performance: 23174.01 25994.71\n",
      "63.0\n",
      "Train / Validation performance: 21768.545 25899.586\n",
      "64.0\n",
      "Train / Validation performance: 27350.744 25781.492\n",
      "65.0\n",
      "Train / Validation performance: 24263.93 25686.45\n",
      "66.0\n",
      "Train / Validation performance: 26379.715 25575.867\n",
      "67.0\n",
      "Train / Validation performance: 22217.016 25478.383\n",
      "68.0\n",
      "Train / Validation performance: 25388.506 25373.02\n",
      "69.0\n",
      "Train / Validation performance: 25794.387 25256.502\n",
      "70.0\n",
      "Train / Validation performance: 23317.76 25156.78\n",
      "71.0\n",
      "Train / Validation performance: 24469.035 25055.684\n",
      "72.0\n",
      "Train / Validation performance: 22076.92 24939.412\n",
      "73.0\n",
      "Train / Validation performance: 26807.768 24842.568\n",
      "74.0\n",
      "Train / Validation performance: 22244.82 24746.676\n",
      "75.0\n",
      "Train / Validation performance: 23854.654 24623.678\n",
      "76.0\n",
      "Train / Validation performance: 25898.705 24527.803\n",
      "77.0\n",
      "Train / Validation performance: 25353.5 24425.691\n",
      "78.0\n",
      "Train / Validation performance: 26405.512 24322.105\n",
      "79.0\n",
      "Train / Validation performance: 24846.492 24230.115\n",
      "80.0\n",
      "Train / Validation performance: 21909.838 24109.361\n",
      "81.0\n",
      "Train / Validation performance: 23914.9 24013.521\n",
      "82.0\n",
      "Train / Validation performance: 22116.426 23906.707\n",
      "83.0\n",
      "Train / Validation performance: 23076.8 23800.664\n",
      "84.0\n",
      "Train / Validation performance: 25215.717 23707.2\n",
      "85.0\n",
      "Train / Validation performance: 23155.973 23588.139\n",
      "86.0\n",
      "Train / Validation performance: 21092.965 23490.223\n",
      "87.0\n",
      "Train / Validation performance: 22982.018 23397.947\n",
      "88.0\n",
      "Train / Validation performance: 23591.8 23264.734\n",
      "89.0\n",
      "Train / Validation performance: 23274.914 23175.154\n",
      "90.0\n",
      "Train / Validation performance: 22526.088 23092.793\n",
      "91.0\n",
      "Train / Validation performance: 22134.805 22976.396\n",
      "92.0\n",
      "Train / Validation performance: 19986.158 22864.89\n",
      "93.0\n",
      "Train / Validation performance: 22603.65 22789.201\n",
      "94.0\n",
      "Train / Validation performance: 20396.084 22672.12\n",
      "95.0\n",
      "Train / Validation performance: 24789.26 22571.648\n",
      "96.0\n",
      "Train / Validation performance: 20466.467 22474.777\n",
      "97.0\n",
      "Train / Validation performance: 22616.79 22371.219\n",
      "98.0\n",
      "Train / Validation performance: 20423.748 22273.877\n",
      "99.0\n",
      "Train / Validation performance: 21232.838 22161.574\n"
     ]
    }
   ],
   "source": [
    "train_loss, valid_loss = train_model(100, expression_train, expression_test)"
   ]
  },
  {
   "cell_type": "code",
   "execution_count": 11,
   "metadata": {},
   "outputs": [
    {
     "data": {
      "image/png": "[encoded data removed]",
      "text/plain": [
       "<matplotlib.figure.Figure at 0x7fcac308b588>"
      ]
     },
     "metadata": {},
     "output_type": "display_data"
    }
   ],
   "source": [
    "plt.plot(train_loss, label='train')\n",
    "plt.plot(valid_loss, label='valid')\n",
    "plt.legend()\n",
    "plt.title('Losses during training')\n",
    "plt.show()"
   ]
  },
  {
   "cell_type": "markdown",
   "metadata": {},
   "source": [
    "# Clustering"
   ]
  },
  {
   "cell_type": "markdown",
   "metadata": {},
   "source": [
    "We can here sample fron the latent space, you can verify that the clustering metrics are robust with respect to different samples from the variational posterior"
   ]
  },
  {
   "cell_type": "code",
   "execution_count": 12,
   "metadata": {},
   "outputs": [],
   "source": [
    "# Encode the data\n",
    "latent = sess.run(model.z, feed_dict={x: expression_train})"
   ]
  },
  {
   "cell_type": "code",
   "execution_count": 13,
   "metadata": {},
   "outputs": [
    {
     "name": "stdout",
     "output_type": "stream",
     "text": [
      "{'nne': 0.6116289391921882, 'silhouette': 0.015303601}\n"
     ]
    }
   ],
   "source": [
    "# Evaluate clusters in latent space: the higher the distance metrics, the \n",
    "# better the classes are separated\n",
    "print(distances_metrics(latent, c_train))"
   ]
  },
  {
   "cell_type": "markdown",
   "metadata": {},
   "source": [
    "# Visualization"
   ]
  },
  {
   "cell_type": "markdown",
   "metadata": {},
   "source": [
    "Our latent space is low-dimensional and therefore tSNE friendly !"
   ]
  },
  {
   "cell_type": "code",
   "execution_count": 14,
   "metadata": {},
   "outputs": [],
   "source": [
    "def show_latent(latent, labels):\n",
    "    plt.figure(figsize=(10, 10))\n",
    "\n",
    "    if latent.shape[1] > 2:\n",
    "        latent = TSNE().fit_transform(latent)\n",
    "        plt.axis(\"off\")\n",
    "        \n",
    "    plt.scatter(latent[:, 0], latent[:, 1], c=labels,\n",
    "                    cmap=plt.get_cmap(\"tab10\", 7), edgecolors='none', s=30, alpha=0.7)\n",
    "    plt.title(\"Latent space for scVI\")"
   ]
  },
  {
   "cell_type": "code",
   "execution_count": 15,
   "metadata": {},
   "outputs": [
    {
     "data": {
      "image/png": "[encoded data removed]",
      "text/plain": [
       "<matplotlib.figure.Figure at 0x7fcac315ed30>"
      ]
     },
     "metadata": {},
     "output_type": "display_data"
    }
   ],
   "source": [
    "show_latent(latent, c_train)"
   ]
  },
  {
   "cell_type": "markdown",
   "metadata": {},
   "source": [
    "# Imputation"
   ]
  },
  {
   "cell_type": "markdown",
   "metadata": {},
   "source": [
    "We now turn to the imputation result. For that, we need to recomplete scVI's inference on corrupted data. That means clearing the computation graph of TensorFlow and starting with a new one. We corrupt the data by uniform sampling over the non-zero entries (10%)"
   ]
  },
  {
   "cell_type": "code",
   "execution_count": 16,
   "metadata": {},
   "outputs": [],
   "source": [
    "# Corrupt the data with zeros at known positions\n",
    "X_zero, i, j, ix = dropout(expression_train, decay=0.)"
   ]
  },
  {
   "cell_type": "code",
   "execution_count": 17,
   "metadata": {},
   "outputs": [
    {
     "name": "stdout",
     "output_type": "stream",
     "text": [
      "Zero proportion in original data set:\n",
      "0.28997338475024137\n"
     ]
    }
   ],
   "source": [
    "print('Zero proportion in original data set:')\n",
    "print(1 - np.count_nonzero(expression_train) / expression_train.size)"
   ]
  },
  {
   "cell_type": "code",
   "execution_count": 18,
   "metadata": {},
   "outputs": [
    {
     "name": "stdout",
     "output_type": "stream",
     "text": [
      "Zero proportion in corrupted data set:\n",
      "0.28997338475024137\n"
     ]
    }
   ],
   "source": [
    "print('Zero proportion in corrupted data set:')\n",
    "print(1 - np.count_nonzero(X_zero) / X_zero.size)"
   ]
  },
  {
   "cell_type": "code",
   "execution_count": 19,
   "metadata": {},
   "outputs": [],
   "source": [
    "tf.reset_default_graph()\n",
    "x = tf.placeholder(tf.float32, (None, expression_train.shape[1]), name='x')\n",
    "\n",
    "model = scVI(x, n_hidden=15)\n",
    "\n",
    "# Session creation\n",
    "sess = tf.Session()\n",
    "sess.run(tf.global_variables_initializer())"
   ]
  },
  {
   "cell_type": "code",
   "execution_count": 20,
   "metadata": {
    "scrolled": true
   },
   "outputs": [
    {
     "name": "stdout",
     "output_type": "stream",
     "text": [
      "0.0\n",
      "Train / Validation performance: 43065.363 38324.402\n",
      "1.0\n",
      "Train / Validation performance: 35184.547 37787.777\n",
      "2.0\n",
      "Train / Validation performance: 35995.96 35892.77\n",
      "3.0\n",
      "Train / Validation performance: 34325.34 34827.75\n",
      "4.0\n",
      "Train / Validation performance: 36971.363 34497.477\n",
      "5.0\n",
      "Train / Validation performance: 29690.168 34172.387\n",
      "6.0\n",
      "Train / Validation performance: 34290.344 34111.15\n",
      "7.0\n",
      "Train / Validation performance: 32782.242 33930.164\n",
      "8.0\n",
      "Train / Validation performance: 31590.71 33746.004\n",
      "9.0\n",
      "Train / Validation performance: 31740.28 33583.574\n",
      "10.0\n",
      "Train / Validation performance: 35174.44 33372.04\n",
      "11.0\n",
      "Train / Validation performance: 31610.682 33278.688\n",
      "12.0\n",
      "Train / Validation performance: 28648.422 33168.98\n",
      "13.0\n",
      "Train / Validation performance: 30790.107 32944.496\n",
      "14.0\n",
      "Train / Validation performance: 30459.045 32854.797\n",
      "15.0\n",
      "Train / Validation performance: 33668.855 32942.53\n",
      "16.0\n",
      "Train / Validation performance: 29985.842 32788.324\n",
      "17.0\n",
      "Train / Validation performance: 34326.26 32499.549\n",
      "18.0\n",
      "Train / Validation performance: 29793.15 32376.889\n",
      "19.0\n",
      "Train / Validation performance: 32488.3 32273.7\n",
      "20.0\n",
      "Train / Validation performance: 31999.117 32070.686\n",
      "21.0\n",
      "Train / Validation performance: 34549.875 31862.756\n",
      "22.0\n",
      "Train / Validation performance: 30559.64 31677.082\n",
      "23.0\n",
      "Train / Validation performance: 28774.46 31319.38\n",
      "24.0\n",
      "Train / Validation performance: 29112.605 31035.729\n",
      "25.0\n",
      "Train / Validation performance: 32541.475 30802.553\n",
      "26.0\n",
      "Train / Validation performance: 29387.545 30652.086\n",
      "27.0\n",
      "Train / Validation performance: 28067.84 30539.957\n",
      "28.0\n",
      "Train / Validation performance: 27720.695 30403.256\n",
      "29.0\n",
      "Train / Validation performance: 30338.28 30249.51\n",
      "30.0\n",
      "Train / Validation performance: 30430.812 30125.676\n",
      "31.0\n",
      "Train / Validation performance: 29865.928 30007.617\n",
      "32.0\n",
      "Train / Validation performance: 30564.895 29855.414\n",
      "33.0\n",
      "Train / Validation performance: 30419.945 29758.516\n",
      "34.0\n",
      "Train / Validation performance: 27520.977 29693.963\n",
      "35.0\n",
      "Train / Validation performance: 30709.447 29510.25\n",
      "36.0\n",
      "Train / Validation performance: 28843.936 29364.691\n",
      "37.0\n",
      "Train / Validation performance: 27458.686 29308.633\n",
      "38.0\n",
      "Train / Validation performance: 28433.73 29182.99\n",
      "39.0\n",
      "Train / Validation performance: 26286.95 29083.633\n",
      "40.0\n",
      "Train / Validation performance: 26010.723 28928.904\n",
      "41.0\n",
      "Train / Validation performance: 28091.426 28814.97\n",
      "42.0\n",
      "Train / Validation performance: 31054.975 28703.404\n",
      "43.0\n",
      "Train / Validation performance: 26079.38 28610.271\n",
      "44.0\n",
      "Train / Validation performance: 26015.686 28479.787\n",
      "45.0\n",
      "Train / Validation performance: 25556.074 28362.154\n",
      "46.0\n",
      "Train / Validation performance: 26989.426 28252.543\n",
      "47.0\n",
      "Train / Validation performance: 28971.227 28122.26\n",
      "48.0\n",
      "Train / Validation performance: 24183.998 28017.303\n",
      "49.0\n",
      "Train / Validation performance: 28356.877 27920.281\n",
      "50.0\n",
      "Train / Validation performance: 29953.262 27835.623\n",
      "51.0\n",
      "Train / Validation performance: 26099.535 27697.793\n",
      "52.0\n",
      "Train / Validation performance: 28704.475 27559.049\n",
      "53.0\n",
      "Train / Validation performance: 27326.328 27480.771\n",
      "54.0\n",
      "Train / Validation performance: 26431.41 27379.55\n",
      "55.0\n",
      "Train / Validation performance: 26821.553 27268.771\n",
      "56.0\n",
      "Train / Validation performance: 28917.506 27115.127\n",
      "57.0\n",
      "Train / Validation performance: 24440.256 27025.855\n",
      "58.0\n",
      "Train / Validation performance: 26295.428 26932.426\n",
      "59.0\n",
      "Train / Validation performance: 24836.61 26821.098\n",
      "60.0\n",
      "Train / Validation performance: 27487.637 26700.314\n",
      "61.0\n",
      "Train / Validation performance: 24897.176 26596.396\n",
      "62.0\n",
      "Train / Validation performance: 28285.164 26525.303\n",
      "63.0\n",
      "Train / Validation performance: 24630.252 26390.734\n",
      "64.0\n",
      "Train / Validation performance: 26831.176 26289.77\n",
      "65.0\n",
      "Train / Validation performance: 24057.49 26160.611\n",
      "66.0\n",
      "Train / Validation performance: 26979.96 26094.49\n",
      "67.0\n",
      "Train / Validation performance: 23513.828 25943.11\n",
      "68.0\n",
      "Train / Validation performance: 27675.27 25858.377\n",
      "69.0\n",
      "Train / Validation performance: 25966.846 25754.436\n",
      "70.0\n",
      "Train / Validation performance: 24567.537 25626.14\n",
      "71.0\n",
      "Train / Validation performance: 25645.71 25567.596\n",
      "72.0\n",
      "Train / Validation performance: 25530.006 25413.473\n",
      "73.0\n",
      "Train / Validation performance: 26646.27 25308.479\n",
      "74.0\n",
      "Train / Validation performance: 22072.295 25211.39\n",
      "75.0\n",
      "Train / Validation performance: 24250.16 25116.924\n",
      "76.0\n",
      "Train / Validation performance: 25678.324 25004.111\n",
      "77.0\n",
      "Train / Validation performance: 26312.965 24905.463\n",
      "78.0\n",
      "Train / Validation performance: 24036.062 24796.086\n",
      "79.0\n",
      "Train / Validation performance: 24585.59 24672.705\n",
      "80.0\n",
      "Train / Validation performance: 22465.922 24579.676\n",
      "81.0\n",
      "Train / Validation performance: 24025.25 24588.77\n",
      "82.0\n",
      "Train / Validation performance: 24965.023 24539.74\n",
      "83.0\n",
      "Train / Validation performance: nan nan\n"
     ]
    }
   ],
   "source": [
    "train_loss, valid_loss = train_model(100, X_zero, expression_test)"
   ]
  },
  {
   "cell_type": "code",
   "execution_count": 21,
   "metadata": {},
   "outputs": [
    {
     "data": {
      "image/png": "[encoded data removed]",
      "text/plain": [
       "<matplotlib.figure.Figure at 0x7fcac315ec88>"
      ]
     },
     "metadata": {},
     "output_type": "display_data"
    }
   ],
   "source": [
    "plt.plot(train_loss, label='train')\n",
    "plt.plot(valid_loss, label='valid')\n",
    "plt.legend()\n",
    "plt.title('Losses during training')\n",
    "plt.show()"
   ]
  },
  {
   "cell_type": "code",
   "execution_count": 22,
   "metadata": {},
   "outputs": [
    {
     "name": "stderr",
     "output_type": "stream",
     "text": [
      "/home/pedro/IST/Thesis/edward-venv/lib/python3.5/site-packages/numpy/core/fromnumeric.py:2957: RuntimeWarning: Mean of empty slice.\n",
      "  out=out, **kwargs)\n",
      "/home/pedro/IST/Thesis/edward-venv/lib/python3.5/site-packages/numpy/core/_methods.py:80: RuntimeWarning: invalid value encountered in double_scalars\n",
      "  ret = ret.dtype.type(ret / rcount)\n"
     ]
    },
    {
     "data": {
      "text/plain": [
       "nan"
      ]
     },
     "execution_count": 22,
     "metadata": {},
     "output_type": "execute_result"
    }
   ],
   "source": [
    "# Get Poisson means for zeroed out points\n",
    "rate_ = sess.run(model.px_rate, {x: X_zero} )\n",
    "\n",
    "# Compute the imputation error at zeroed out points\n",
    "imputation_error(rate_, expression_train, X_zero, i, j, ix)"
   ]
  }
 ],
 "metadata": {
  "kernelspec": {
   "display_name": "Python 2",
   "language": "python",
   "name": "python2"
  },
  "language_info": {
   "codemirror_mode": {
    "name": "ipython",
    "version": 3
   },
   "file_extension": ".py",
   "mimetype": "text/x-python",
   "name": "python",
   "nbconvert_exporter": "python",
   "pygments_lexer": "ipython3",
   "version": "3.5.2"
  }
 },
 "nbformat": 4,
 "nbformat_minor": 2
}
